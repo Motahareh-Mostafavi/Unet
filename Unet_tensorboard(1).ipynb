{
  "cells": [
    {
      "cell_type": "markdown",
      "metadata": {
        "id": "view-in-github",
        "colab_type": "text"
      },
      "source": [
        "<a href=\"https://colab.research.google.com/github/Motahareh-Mostafavi/Unet/blob/main/Unet_tensorboard(1).ipynb\" target=\"_parent\"><img src=\"https://colab.research.google.com/assets/colab-badge.svg\" alt=\"Open In Colab\"/></a>"
      ]
    },
    {
      "cell_type": "code",
      "execution_count": null,
      "id": "33fca1df",
      "metadata": {
        "id": "33fca1df"
      },
      "outputs": [],
      "source": [
        "import torch\n",
        "from torch import nn\n",
        "import os\n",
        "import matplotlib.pyplot as plt\n",
        "import numpy as np\n",
        "import torch\n",
        "import torchvision\n",
        "from torchvision import transforms\n",
        "from torch.utils.data import Dataset, DataLoader\n",
        "from PIL import Image\n",
        "from pathlib import Path\n",
        "from torch.utils.tensorboard import SummaryWriter"
      ]
    },
    {
      "cell_type": "code",
      "execution_count": null,
      "id": "0447fb26",
      "metadata": {
        "colab": {
          "base_uri": "https://localhost:8080/",
          "height": 348
        },
        "id": "0447fb26",
        "outputId": "c58a6455-1caa-4fd7-ee86-14c79eee62c0"
      },
      "outputs": [
        {
          "name": "stdout",
          "output_type": "stream",
          "text": [
            "device name GeForce RTX 2080 Ti\n"
          ]
        }
      ],
      "source": [
        "if not torch.cuda.is_available():\n",
        "  raise Exception(\"GPU not availalbe. CPU training will be too slow.\")\n",
        "\n",
        "print(\"device name\", torch.cuda.get_device_name(0))"
      ]
    },
    {
      "cell_type": "code",
      "execution_count": null,
      "id": "2fa6040b",
      "metadata": {
        "id": "2fa6040b"
      },
      "outputs": [],
      "source": [
        "# Writer will output to ./runs/ directory by default\n",
        "writer = SummaryWriter()\n",
        "%load_ext tensorboard"
      ]
    },
    {
      "cell_type": "code",
      "execution_count": null,
      "id": "23ff8696",
      "metadata": {
        "colab": {
          "base_uri": "https://localhost:8080/",
          "height": 390
        },
        "id": "23ff8696",
        "outputId": "1d587c3a-36e1-42b4-a8c3-63a82ed94cf3",
        "scrolled": true
      },
      "outputs": [
        {
          "ename": "NameError",
          "evalue": "name 'Path' is not defined",
          "output_type": "error",
          "traceback": [
            "\u001b[0;31m---------------------------------------------------------------------------\u001b[0m",
            "\u001b[0;31mNameError\u001b[0m                                 Traceback (most recent call last)",
            "\u001b[0;32m/tmp/ipykernel_6657/1965506785.py\u001b[0m in \u001b[0;36m<module>\u001b[0;34m\u001b[0m\n\u001b[0;32m----> 1\u001b[0;31m \u001b[0;32mclass\u001b[0m \u001b[0mCloudDataset\u001b[0m\u001b[0;34m(\u001b[0m\u001b[0mDataset\u001b[0m\u001b[0;34m)\u001b[0m\u001b[0;34m:\u001b[0m\u001b[0;34m\u001b[0m\u001b[0;34m\u001b[0m\u001b[0m\n\u001b[0m\u001b[1;32m      2\u001b[0m     \u001b[0;32mdef\u001b[0m \u001b[0m__init__\u001b[0m\u001b[0;34m(\u001b[0m\u001b[0mself\u001b[0m\u001b[0;34m,\u001b[0m \u001b[0mr_dir\u001b[0m\u001b[0;34m,\u001b[0m \u001b[0mg_dir\u001b[0m\u001b[0;34m,\u001b[0m \u001b[0mb_dir\u001b[0m\u001b[0;34m,\u001b[0m \u001b[0mnir_dir\u001b[0m\u001b[0;34m,\u001b[0m \u001b[0mgt_dir\u001b[0m\u001b[0;34m,\u001b[0m \u001b[0mpytorch\u001b[0m\u001b[0;34m=\u001b[0m\u001b[0;32mTrue\u001b[0m\u001b[0;34m)\u001b[0m\u001b[0;34m:\u001b[0m\u001b[0;34m\u001b[0m\u001b[0;34m\u001b[0m\u001b[0m\n\u001b[1;32m      3\u001b[0m         \u001b[0msuper\u001b[0m\u001b[0;34m(\u001b[0m\u001b[0;34m)\u001b[0m\u001b[0;34m.\u001b[0m\u001b[0m__init__\u001b[0m\u001b[0;34m(\u001b[0m\u001b[0;34m)\u001b[0m\u001b[0;34m\u001b[0m\u001b[0;34m\u001b[0m\u001b[0m\n\u001b[1;32m      4\u001b[0m \u001b[0;34m\u001b[0m\u001b[0m\n\u001b[1;32m      5\u001b[0m         \u001b[0;31m# Loop through the files in red folder and combine, into a dictionary, the other bands\u001b[0m\u001b[0;34m\u001b[0m\u001b[0;34m\u001b[0m\u001b[0;34m\u001b[0m\u001b[0m\n",
            "\u001b[0;32m/tmp/ipykernel_6657/1965506785.py\u001b[0m in \u001b[0;36mCloudDataset\u001b[0;34m()\u001b[0m\n\u001b[1;32m      9\u001b[0m \u001b[0;34m\u001b[0m\u001b[0m\n\u001b[1;32m     10\u001b[0m \u001b[0;34m\u001b[0m\u001b[0m\n\u001b[0;32m---> 11\u001b[0;31m     \u001b[0;32mdef\u001b[0m \u001b[0mcombine_files\u001b[0m\u001b[0;34m(\u001b[0m\u001b[0mself\u001b[0m\u001b[0;34m,\u001b[0m \u001b[0mr_file\u001b[0m\u001b[0;34m:\u001b[0m \u001b[0mPath\u001b[0m\u001b[0;34m,\u001b[0m \u001b[0mg_dir\u001b[0m\u001b[0;34m,\u001b[0m \u001b[0mb_dir\u001b[0m\u001b[0;34m,\u001b[0m\u001b[0mnir_dir\u001b[0m\u001b[0;34m,\u001b[0m \u001b[0mgt_dir\u001b[0m\u001b[0;34m)\u001b[0m\u001b[0;34m:\u001b[0m\u001b[0;34m\u001b[0m\u001b[0;34m\u001b[0m\u001b[0m\n\u001b[0m\u001b[1;32m     12\u001b[0m \u001b[0;34m\u001b[0m\u001b[0m\n\u001b[1;32m     13\u001b[0m         files = {'red': r_file, \n",
            "\u001b[0;31mNameError\u001b[0m: name 'Path' is not defined"
          ]
        }
      ],
      "source": [
        "\n",
        "class CloudDataset(Dataset):\n",
        "    def __init__(self, r_dir, g_dir, b_dir, nir_dir, gt_dir, pytorch=True):\n",
        "        super().__init__()\n",
        "\n",
        "        # Loop through the files in red folder and combine, into a dictionary, the other bands\n",
        "        self.files = [self.combine_files(f, g_dir, b_dir, nir_dir, gt_dir) for f in r_dir.iterdir() if not f.is_dir()]\n",
        "        self.pytorch = pytorch\n",
        "        self.augJitter = torchvision.transforms.ColorJitter()\n",
        "\n",
        "\n",
        "    def combine_files(self, r_file: Path, g_dir, b_dir,nir_dir, gt_dir):\n",
        "\n",
        "        files = {'red': r_file,\n",
        "                 'green':g_dir/r_file.name.replace('red', 'green'),\n",
        "                 'blue': b_dir/r_file.name.replace('red', 'blue'),\n",
        "                 'nir': nir_dir/r_file.name.replace('red', 'nir'),\n",
        "                 'gt': gt_dir/r_file.name.replace('red', 'gt')}\n",
        "\n",
        "        return files\n",
        "\n",
        "    def __len__(self):\n",
        "\n",
        "        return len(self.files)\n",
        "\n",
        "    def open_as_array(self, idx, invert=False, include_nir=False):\n",
        "\n",
        "        raw_rgb = np.stack([np.array(Image.open(self.files[idx]['red'])),\n",
        "                            np.array(Image.open(self.files[idx]['green'])),\n",
        "                            np.array(Image.open(self.files[idx]['blue'])),\n",
        "                           ], axis=2)\n",
        "\n",
        "        raw_rgb  = self.augJitter(raw_rgb)\n",
        "\n",
        "        if include_nir:\n",
        "            nir = np.expand_dims(np.array(Image.open(self.files[idx]['nir'])), 2)\n",
        "            raw_rgb = np.concatenate([raw_rgb, nir], axis=2)\n",
        "\n",
        "        if invert:\n",
        "            raw_rgb = raw_rgb.transpose((2,0,1))\n",
        "\n",
        "        # normalize\n",
        "        return (raw_rgb / np.iinfo(raw_rgb.dtype).max)\n",
        "\n",
        "\n",
        "    def open_mask(self, idx, add_dims=False):\n",
        "\n",
        "        raw_mask = np.array(Image.open(self.files[idx]['gt']))\n",
        "        raw_mask = np.where(raw_mask==255, 1, 0)\n",
        "\n",
        "        return np.expand_dims(raw_mask, 0) if add_dims else raw_mask\n",
        "\n",
        "    def __getitem__(self, idx):\n",
        "\n",
        "        x = torch.tensor(self.open_as_array(idx, invert=self.pytorch, include_nir=True), dtype=torch.float32)\n",
        "        y = torch.tensor(self.open_mask(idx, add_dims=False), dtype=torch.torch.int64)\n",
        "\n",
        "        return x, y\n",
        "\n",
        "\n",
        "\n",
        "# create torch dataset like defined in CloudDataset class\n",
        "base_path = Path(\"/home/terra/Downloads/archive/38-Cloud_training\")\n",
        "data = CloudDataset(base_path/'train_red',\n",
        "                    base_path/'train_green',\n",
        "                    base_path/'train_blue',\n",
        "                    base_path/'train_nir',\n",
        "                    base_path/'train_gt')\n",
        "# get len of data\n",
        "len(data)\n",
        "# returns features x and target feature y\n",
        "x, y = data[1000]\n",
        "x.shape, y.shape\n",
        "\n",
        "# visualize raw image and ground truth\n",
        "image_index = 500\n",
        "fig, ax = plt.subplots(1,2, figsize=(10,9))\n",
        "ax[0].imshow(data.open_as_array(image_index))\n",
        "ax[1].imshow(data.open_mask(image_index))"
      ]
    },
    {
      "cell_type": "code",
      "execution_count": null,
      "id": "942da384",
      "metadata": {
        "id": "942da384"
      },
      "outputs": [],
      "source": [
        "train_dataset, valid_dataset = torch.utils.data.random_split(data, (5000, 3400))\n",
        "# Create dataloads sample from dataset\n",
        "\n",
        "train_dataload = DataLoader(train_dataset, batch_size=12, shuffle=True)\n",
        "valid_dataload = DataLoader(valid_dataset, batch_size=12, shuffle=True)"
      ]
    },
    {
      "cell_type": "code",
      "execution_count": null,
      "id": "8e4fe022",
      "metadata": {
        "id": "8e4fe022",
        "outputId": "32ca7841-12e1-4d19-b897-befb73491214"
      },
      "outputs": [
        {
          "data": {
            "text/plain": [
              "(torch.Size([12, 4, 384, 384]), torch.Size([12, 384, 384]))"
            ]
          },
          "execution_count": 6,
          "metadata": {},
          "output_type": "execute_result"
        }
      ],
      "source": [
        "# test dataload\n",
        "xb, yb = next(iter(train_dataload))\n",
        "xb.shape, yb.shape\n"
      ]
    },
    {
      "cell_type": "code",
      "execution_count": null,
      "id": "e4351350",
      "metadata": {
        "id": "e4351350"
      },
      "outputs": [],
      "source": [
        "\n",
        "\n",
        "class UNET(nn.Module):\n",
        "    def __init__(self, in_channels, out_channels):\n",
        "        super().__init__()\n",
        "\n",
        "        self.conv1 = self.contract_block(in_channels, 32, 7, 3)\n",
        "        self.conv2 = self.contract_block(32, 64, 3, 1)\n",
        "        self.conv3 = self.contract_block(64, 128, 3, 1)\n",
        "\n",
        "        self.upconv3 = self.expand_block(128, 64, 3, 1)\n",
        "        self.upconv2 = self.expand_block(64*2, 32, 3, 1)\n",
        "        self.upconv1 = self.expand_block(32*2, out_channels, 3, 1)\n",
        "\n",
        "    def __call__(self, x):\n",
        "\n",
        "        # downsampling part\n",
        "        conv1 = self.conv1(x)\n",
        "        conv2 = self.conv2(conv1)\n",
        "        conv3 = self.conv3(conv2)\n",
        "\n",
        "        upconv3 = self.upconv3(conv3)\n",
        "\n",
        "        upconv2 = self.upconv2(torch.cat([upconv3, conv2], 1))\n",
        "        upconv1 = self.upconv1(torch.cat([upconv2, conv1], 1))\n",
        "\n",
        "        return upconv1\n",
        "\n",
        "    def contract_block(self, in_channels, out_channels, kernel_size, padding):\n",
        "\n",
        "        contract = nn.Sequential(\n",
        "            torch.nn.Conv2d(in_channels, out_channels, kernel_size=kernel_size, stride=1, padding=padding),\n",
        "            torch.nn.BatchNorm2d(out_channels),\n",
        "            torch.nn.ReLU(),\n",
        "            torch.nn.Conv2d(out_channels, out_channels, kernel_size=kernel_size, stride=1, padding=padding),\n",
        "            torch.nn.BatchNorm2d(out_channels),\n",
        "            torch.nn.ReLU(),\n",
        "            torch.nn.MaxPool2d(kernel_size=3, stride=2, padding=1)\n",
        "                                 )\n",
        "\n",
        "        return contract\n",
        "\n",
        "    def expand_block(self, in_channels, out_channels, kernel_size, padding):\n",
        "\n",
        "        expand = nn.Sequential(torch.nn.Conv2d(in_channels, out_channels, kernel_size, stride=1, padding=padding),\n",
        "                            torch.nn.BatchNorm2d(out_channels),\n",
        "                            torch.nn.ReLU(),\n",
        "                            torch.nn.Conv2d(out_channels, out_channels, kernel_size, stride=1, padding=padding),\n",
        "                            torch.nn.BatchNorm2d(out_channels),\n",
        "                            torch.nn.ReLU(),\n",
        "                            torch.nn.ConvTranspose2d(out_channels, out_channels, kernel_size=3, stride=2, padding=1, output_padding=1)\n",
        "                            )\n",
        "        return expand"
      ]
    },
    {
      "cell_type": "code",
      "execution_count": null,
      "id": "7e458076",
      "metadata": {
        "id": "7e458076",
        "outputId": "2a022817-5f36-4aa8-e88b-910a4f077798"
      },
      "outputs": [
        {
          "data": {
            "text/plain": [
              "(torch.Size([12, 4, 384, 384]), torch.Size([12, 384, 384]))"
            ]
          },
          "execution_count": 8,
          "metadata": {},
          "output_type": "execute_result"
        }
      ],
      "source": [
        "unet = UNET(4,2)\n",
        "# testing one pass\n",
        "xb, yb = next(iter(train_dataload))\n",
        "xb.shape, yb.shape"
      ]
    },
    {
      "cell_type": "code",
      "execution_count": null,
      "id": "79433bad",
      "metadata": {
        "id": "79433bad",
        "outputId": "7f38f390-6fcd-4cf7-982d-8d4724477fd6"
      },
      "outputs": [
        {
          "data": {
            "text/plain": [
              "torch.Size([12, 2, 384, 384])"
            ]
          },
          "execution_count": 9,
          "metadata": {},
          "output_type": "execute_result"
        }
      ],
      "source": [
        "pred = unet(xb)\n",
        "pred.shape"
      ]
    },
    {
      "cell_type": "code",
      "execution_count": null,
      "id": "a2a3ac4c",
      "metadata": {
        "id": "a2a3ac4c"
      },
      "outputs": [],
      "source": [
        "grid = torchvision.utils.make_grid(xb)\n",
        "writer.add_image('images', grid, 0)\n",
        "writer.add_graph(unet, xb)\n",
        "writer.close()"
      ]
    },
    {
      "cell_type": "code",
      "execution_count": null,
      "id": "b73b0887",
      "metadata": {
        "id": "b73b0887"
      },
      "outputs": [],
      "source": [
        "import time\n",
        "from IPython.display import clear_output\n",
        "\n",
        "def train(model, train_dl, valid_dl, loss_fn, optimizer, acc_fn, epochs=1):\n",
        "    model.cuda()\n",
        "\n",
        "    train_loss, valid_loss = [], []\n",
        "\n",
        "    best_acc = 0.0\n",
        "\n",
        "    phase = 'train'\n",
        "    for epoch in range(epochs):\n",
        "        print('Epoch {}/{}'.format(epoch, epochs - 1))\n",
        "        print('**************************************')\n",
        "\n",
        "        #  setting validation occupance steps\n",
        "        if epoch % 10 == 0:\n",
        "            phase = 'valid'\n",
        "        else:\n",
        "            phase = 'train'\n",
        "\n",
        "        if phase == 'train':\n",
        "            model.train(True)  # Set trainind mode = true\n",
        "            dataloader = train_dataload\n",
        "        else:\n",
        "            model.train(False)  # Set model to evaluate mode\n",
        "            dataloader = valid_dataload\n",
        "\n",
        "        running_loss = 0.0\n",
        "        running_acc = 0.0\n",
        "\n",
        "        step = 0\n",
        "\n",
        "        # iterate over data\n",
        "        for x, y in dataloader:\n",
        "            x = x.cuda()\n",
        "            y = y.cuda()\n",
        "            step += 1\n",
        "\n",
        "            # forward pass\n",
        "            if phase == 'train':\n",
        "                # zero the gradients\n",
        "                optimizer.zero_grad()\n",
        "                outputs = model(x)\n",
        "                loss = loss_fn(outputs, y)\n",
        "                loss.backward()\n",
        "                optimizer.step()\n",
        "\n",
        "            else:\n",
        "                with torch.no_grad():\n",
        "                    outputs = model(x)\n",
        "                    loss = loss_fn(outputs, y.long())\n",
        "\n",
        "            # stats - whatever is the phase\n",
        "            acc = acc_fn(outputs, y)\n",
        "\n",
        "            running_acc  += acc*dataloader.batch_size\n",
        "            running_loss += loss*dataloader.batch_size\n",
        "\n",
        "            if step % 100 == 0:\n",
        "                print(phase, ': Current batch: {}  Loss: {}  Acc: {} '.format(step, loss, acc))\n",
        "\n",
        "            #  setting validation occupance steps\n",
        "            if epoch % 10 == 0:\n",
        "                phase = 'valid'\n",
        "            else:\n",
        "                phase = 'train'\n",
        "\n",
        "        epoch_loss = running_loss / len(dataloader.dataset)\n",
        "        epoch_acc = running_acc / len(dataloader.dataset)\n",
        "        if phase == 'train':\n",
        "            writer.add_scalar(\"Loss/train\", epoch_loss, epoch)\n",
        "            writer.add_scalar(\"acc/train\", epoch_acc, epoch)\n",
        "        else:\n",
        "            writer.add_scalar(\"Loss/valid\", epoch_loss, epoch)\n",
        "            writer.add_scalar(\"acc/valid\", epoch_acc, epoch)\n",
        "\n",
        "\n",
        "        clear_output(wait=True)\n",
        "        print('Epoch: ', epoch, \"/\", epochs)\n",
        "        print('**************************************')\n",
        "        print(phase, ' Loss: ',epoch_loss, 'Acc: ',epoch_acc)\n",
        "        print('**************************************')\n",
        "\n",
        "\n",
        "        train_loss.append(epoch_loss) if phase=='train' else valid_loss.append(epoch_loss)\n",
        "\n",
        "    return train_loss, valid_loss\n",
        "\n",
        "def acc_metric(predb, yb):\n",
        "    return (predb.argmax(dim=1) == yb.cuda()).float().mean()"
      ]
    },
    {
      "cell_type": "code",
      "execution_count": null,
      "id": "5d17cd8c",
      "metadata": {
        "id": "5d17cd8c",
        "outputId": "eddad645-c5ef-401e-858a-2e43ef03d751"
      },
      "outputs": [
        {
          "name": "stdout",
          "output_type": "stream",
          "text": [
            "Epoch:  2 / 50\n",
            "**************************************\n",
            "train  Loss:  tensor(0.5563, device='cuda:0', grad_fn=<DivBackward0>) Acc:  tensor(0.7035, device='cuda:0')\n",
            "**************************************\n",
            "Epoch 3/49\n",
            "**************************************\n",
            "train : Current batch: 100  Loss: 0.38144680857658386  Acc: 0.8889702558517456 \n",
            "train : Current batch: 200  Loss: 0.38086315989494324  Acc: 0.8455641269683838 \n"
          ]
        }
      ],
      "source": [
        "loss_fn = nn.CrossEntropyLoss() # choose loss function\n",
        "opt = torch.optim.Adam(unet.parameters(), lr=0.01) # choose optimizer function\n",
        "\n",
        "# start training\n",
        "train_loss, valid_loss = train(unet, train_dataload, valid_dataload, loss_fn, opt, acc_metric, epochs=50)\n",
        "\n",
        "writer.flush()\n",
        "writer.close()\n",
        "torch.save(unet.state_dict(), 'model_weights.pth')"
      ]
    },
    {
      "cell_type": "code",
      "execution_count": null,
      "id": "191a5185",
      "metadata": {
        "id": "191a5185"
      },
      "outputs": [],
      "source": []
    },
    {
      "cell_type": "code",
      "execution_count": null,
      "id": "180e1fdb",
      "metadata": {
        "id": "180e1fdb"
      },
      "outputs": [],
      "source": []
    }
  ],
  "metadata": {
    "colab": {
      "provenance": [],
      "include_colab_link": true
    },
    "kernelspec": {
      "display_name": "Python 3",
      "language": "python",
      "name": "python3"
    },
    "language_info": {
      "codemirror_mode": {
        "name": "ipython",
        "version": 3
      },
      "file_extension": ".py",
      "mimetype": "text/x-python",
      "name": "python",
      "nbconvert_exporter": "python",
      "pygments_lexer": "ipython3",
      "version": "3.8.5"
    },
    "vscode": {
      "interpreter": {
        "hash": "2ba5263e6d10992972c78d01070ee0653e4ba4356460a6d94b5dee9db3c09bd2"
      }
    }
  },
  "nbformat": 4,
  "nbformat_minor": 5
}